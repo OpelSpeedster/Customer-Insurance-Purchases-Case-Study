{
 "cells": [
  {
   "cell_type": "markdown",
   "id": "ae885628-77ce-4dab-ae5d-ee1fee040ab9",
   "metadata": {},
   "source": [
    "# Customer Insurance Purchases Case Study"
   ]
  },
  {
   "cell_type": "markdown",
   "id": "3b5c8c81-32e7-48db-9a53-a6ab312a2121",
   "metadata": {},
   "source": [
    "I had used **Logistic Regression** for this Project because the problem works on a **binary classification task (purchased or not)**, and the model is simple, efficient, and interpretable, allowing us to understand how factors like age and salary influence insurance purchase decisions."
   ]
  },
  {
   "cell_type": "markdown",
   "id": "1abef4d2-dd1b-495f-8c16-4e5389a2198c",
   "metadata": {},
   "source": [
    "## Importing the libraries"
   ]
  },
  {
   "cell_type": "code",
   "execution_count": 96,
   "id": "8928b2ac-0fbf-4927-bf7b-4bcbd2b164f7",
   "metadata": {},
   "outputs": [],
   "source": [
    "import matplotlib.pyplot as plt\n",
    "import numpy as np\n",
    "from sklearn.preprocessing import StandardScaler\n",
    "import pandas as pd\n",
    "from sklearn.model_selection import train_test_split\n",
    "from sklearn.linear_model import LogisticRegression\n",
    "from sklearn.metrics import accuracy_score, classification_report"
   ]
  },
  {
   "cell_type": "markdown",
   "id": "8c092423-fef0-4bb9-89c1-f94a2b0168ff",
   "metadata": {},
   "source": [
    "## Importing the dataset"
   ]
  },
  {
   "cell_type": "code",
   "execution_count": 99,
   "id": "e839f2dd-004f-4d04-a31b-12e1a90f541e",
   "metadata": {},
   "outputs": [],
   "source": [
    "# Load the dataset from 'Social_Network_Ads.csv' file\n",
    "dataset = pd.read_csv('Social_Network_Ads.csv')\n",
    "X = dataset.iloc[:, :-1].values\n",
    "y = dataset.iloc[:, -1].values"
   ]
  },
  {
   "cell_type": "markdown",
   "id": "7705c317-43a4-49c3-8987-9ea43cdce838",
   "metadata": {},
   "source": [
    "# Convert the dataset to a pandas DataFrame"
   ]
  },
  {
   "cell_type": "code",
   "execution_count": 102,
   "id": "17aaef47-51aa-455c-862c-9bd0eb70132d",
   "metadata": {},
   "outputs": [],
   "source": [
    "df = pd.DataFrame(dataset)"
   ]
  },
  {
   "cell_type": "markdown",
   "id": "f5251487-e649-437a-b827-15e76986ec56",
   "metadata": {},
   "source": [
    "# Splitting features (X) and target variable (y)"
   ]
  },
  {
   "cell_type": "code",
   "execution_count": 105,
   "id": "ce08588d-15ac-4bfa-9987-e7ca4e18dab3",
   "metadata": {},
   "outputs": [],
   "source": [
    "X = df[['Age', 'EstimatedSalary']]\n",
    "y = df['Purchased']"
   ]
  },
  {
   "cell_type": "code",
   "execution_count": 107,
   "id": "b077459a-be7a-4d73-8415-0f871f13e946",
   "metadata": {},
   "outputs": [
    {
     "name": "stdout",
     "output_type": "stream",
     "text": [
      "     Age  EstimatedSalary\n",
      "0     19            19000\n",
      "1     35            20000\n",
      "2     26            43000\n",
      "3     27            57000\n",
      "4     19            76000\n",
      "..   ...              ...\n",
      "395   46            41000\n",
      "396   51            23000\n",
      "397   50            20000\n",
      "398   36            33000\n",
      "399   49            36000\n",
      "\n",
      "[400 rows x 2 columns]\n"
     ]
    }
   ],
   "source": [
    "print(X)"
   ]
  },
  {
   "cell_type": "code",
   "execution_count": 109,
   "id": "efd88f81-7cec-4bf5-aa6f-c69cc719427d",
   "metadata": {},
   "outputs": [
    {
     "name": "stdout",
     "output_type": "stream",
     "text": [
      "0      0\n",
      "1      0\n",
      "2      0\n",
      "3      0\n",
      "4      0\n",
      "      ..\n",
      "395    1\n",
      "396    1\n",
      "397    1\n",
      "398    0\n",
      "399    1\n",
      "Name: Purchased, Length: 400, dtype: int64\n"
     ]
    }
   ],
   "source": [
    "print(y)"
   ]
  },
  {
   "cell_type": "markdown",
   "id": "d682d5ff-99c3-47f4-b5bb-ab8c410de810",
   "metadata": {},
   "source": [
    "# Split dataset into training and testing sets"
   ]
  },
  {
   "cell_type": "code",
   "execution_count": 112,
   "id": "9e5437a3-44f1-4784-945f-2269d00c7f45",
   "metadata": {},
   "outputs": [],
   "source": [
    "X_train, X_test, y_train, y_test = train_test_split(X, y, test_size=0.2, random_state=42)"
   ]
  },
  {
   "cell_type": "code",
   "execution_count": 114,
   "id": "8d1bbd06-196e-44a4-96bf-33e9fb150e3e",
   "metadata": {},
   "outputs": [
    {
     "name": "stdout",
     "output_type": "stream",
     "text": [
      "209    0\n",
      "280    1\n",
      "33     0\n",
      "210    1\n",
      "93     0\n",
      "      ..\n",
      "246    0\n",
      "227    1\n",
      "369    1\n",
      "176    0\n",
      "289    1\n",
      "Name: Purchased, Length: 80, dtype: int64\n"
     ]
    }
   ],
   "source": [
    "print(y_test)"
   ]
  },
  {
   "cell_type": "markdown",
   "id": "b1258a6e-e06d-46ad-b009-780338840b5c",
   "metadata": {},
   "source": [
    "# Feature scaling"
   ]
  },
  {
   "cell_type": "code",
   "execution_count": 117,
   "id": "1f57c9f5-130b-4765-8b31-21a8d3fa6999",
   "metadata": {},
   "outputs": [],
   "source": [
    "# Initialize the StandardScaler object for feature scaling\n",
    "scaler = StandardScaler()\n",
    "# Fit the scaler to the training data and transform it (standardize features by removing the mean and scaling to unit variance)\n",
    "X_train_sc = scaler.fit_transform(X_train)\n",
    "# Transform the test data using the same scaling parameters learned from the training data\n",
    "X_test_sc = scaler.transform(X_test)"
   ]
  },
  {
   "cell_type": "markdown",
   "id": "6d26b870-fb69-4128-9d97-f5f1540ae908",
   "metadata": {},
   "source": [
    "# Initialize and train the model using Logistic Regression"
   ]
  },
  {
   "cell_type": "code",
   "execution_count": 153,
   "id": "786bd247-df8a-4528-aa78-304cc8a7d3fb",
   "metadata": {},
   "outputs": [
    {
     "data": {
      "text/html": [
       "<style>#sk-container-id-4 {\n",
       "  /* Definition of color scheme common for light and dark mode */\n",
       "  --sklearn-color-text: black;\n",
       "  --sklearn-color-line: gray;\n",
       "  /* Definition of color scheme for unfitted estimators */\n",
       "  --sklearn-color-unfitted-level-0: #fff5e6;\n",
       "  --sklearn-color-unfitted-level-1: #f6e4d2;\n",
       "  --sklearn-color-unfitted-level-2: #ffe0b3;\n",
       "  --sklearn-color-unfitted-level-3: chocolate;\n",
       "  /* Definition of color scheme for fitted estimators */\n",
       "  --sklearn-color-fitted-level-0: #f0f8ff;\n",
       "  --sklearn-color-fitted-level-1: #d4ebff;\n",
       "  --sklearn-color-fitted-level-2: #b3dbfd;\n",
       "  --sklearn-color-fitted-level-3: cornflowerblue;\n",
       "\n",
       "  /* Specific color for light theme */\n",
       "  --sklearn-color-text-on-default-background: var(--sg-text-color, var(--theme-code-foreground, var(--jp-content-font-color1, black)));\n",
       "  --sklearn-color-background: var(--sg-background-color, var(--theme-background, var(--jp-layout-color0, white)));\n",
       "  --sklearn-color-border-box: var(--sg-text-color, var(--theme-code-foreground, var(--jp-content-font-color1, black)));\n",
       "  --sklearn-color-icon: #696969;\n",
       "\n",
       "  @media (prefers-color-scheme: dark) {\n",
       "    /* Redefinition of color scheme for dark theme */\n",
       "    --sklearn-color-text-on-default-background: var(--sg-text-color, var(--theme-code-foreground, var(--jp-content-font-color1, white)));\n",
       "    --sklearn-color-background: var(--sg-background-color, var(--theme-background, var(--jp-layout-color0, #111)));\n",
       "    --sklearn-color-border-box: var(--sg-text-color, var(--theme-code-foreground, var(--jp-content-font-color1, white)));\n",
       "    --sklearn-color-icon: #878787;\n",
       "  }\n",
       "}\n",
       "\n",
       "#sk-container-id-4 {\n",
       "  color: var(--sklearn-color-text);\n",
       "}\n",
       "\n",
       "#sk-container-id-4 pre {\n",
       "  padding: 0;\n",
       "}\n",
       "\n",
       "#sk-container-id-4 input.sk-hidden--visually {\n",
       "  border: 0;\n",
       "  clip: rect(1px 1px 1px 1px);\n",
       "  clip: rect(1px, 1px, 1px, 1px);\n",
       "  height: 1px;\n",
       "  margin: -1px;\n",
       "  overflow: hidden;\n",
       "  padding: 0;\n",
       "  position: absolute;\n",
       "  width: 1px;\n",
       "}\n",
       "\n",
       "#sk-container-id-4 div.sk-dashed-wrapped {\n",
       "  border: 1px dashed var(--sklearn-color-line);\n",
       "  margin: 0 0.4em 0.5em 0.4em;\n",
       "  box-sizing: border-box;\n",
       "  padding-bottom: 0.4em;\n",
       "  background-color: var(--sklearn-color-background);\n",
       "}\n",
       "\n",
       "#sk-container-id-4 div.sk-container {\n",
       "  /* jupyter's `normalize.less` sets `[hidden] { display: none; }`\n",
       "     but bootstrap.min.css set `[hidden] { display: none !important; }`\n",
       "     so we also need the `!important` here to be able to override the\n",
       "     default hidden behavior on the sphinx rendered scikit-learn.org.\n",
       "     See: https://github.com/scikit-learn/scikit-learn/issues/21755 */\n",
       "  display: inline-block !important;\n",
       "  position: relative;\n",
       "}\n",
       "\n",
       "#sk-container-id-4 div.sk-text-repr-fallback {\n",
       "  display: none;\n",
       "}\n",
       "\n",
       "div.sk-parallel-item,\n",
       "div.sk-serial,\n",
       "div.sk-item {\n",
       "  /* draw centered vertical line to link estimators */\n",
       "  background-image: linear-gradient(var(--sklearn-color-text-on-default-background), var(--sklearn-color-text-on-default-background));\n",
       "  background-size: 2px 100%;\n",
       "  background-repeat: no-repeat;\n",
       "  background-position: center center;\n",
       "}\n",
       "\n",
       "/* Parallel-specific style estimator block */\n",
       "\n",
       "#sk-container-id-4 div.sk-parallel-item::after {\n",
       "  content: \"\";\n",
       "  width: 100%;\n",
       "  border-bottom: 2px solid var(--sklearn-color-text-on-default-background);\n",
       "  flex-grow: 1;\n",
       "}\n",
       "\n",
       "#sk-container-id-4 div.sk-parallel {\n",
       "  display: flex;\n",
       "  align-items: stretch;\n",
       "  justify-content: center;\n",
       "  background-color: var(--sklearn-color-background);\n",
       "  position: relative;\n",
       "}\n",
       "\n",
       "#sk-container-id-4 div.sk-parallel-item {\n",
       "  display: flex;\n",
       "  flex-direction: column;\n",
       "}\n",
       "\n",
       "#sk-container-id-4 div.sk-parallel-item:first-child::after {\n",
       "  align-self: flex-end;\n",
       "  width: 50%;\n",
       "}\n",
       "\n",
       "#sk-container-id-4 div.sk-parallel-item:last-child::after {\n",
       "  align-self: flex-start;\n",
       "  width: 50%;\n",
       "}\n",
       "\n",
       "#sk-container-id-4 div.sk-parallel-item:only-child::after {\n",
       "  width: 0;\n",
       "}\n",
       "\n",
       "/* Serial-specific style estimator block */\n",
       "\n",
       "#sk-container-id-4 div.sk-serial {\n",
       "  display: flex;\n",
       "  flex-direction: column;\n",
       "  align-items: center;\n",
       "  background-color: var(--sklearn-color-background);\n",
       "  padding-right: 1em;\n",
       "  padding-left: 1em;\n",
       "}\n",
       "\n",
       "\n",
       "/* Toggleable style: style used for estimator/Pipeline/ColumnTransformer box that is\n",
       "clickable and can be expanded/collapsed.\n",
       "- Pipeline and ColumnTransformer use this feature and define the default style\n",
       "- Estimators will overwrite some part of the style using the `sk-estimator` class\n",
       "*/\n",
       "\n",
       "/* Pipeline and ColumnTransformer style (default) */\n",
       "\n",
       "#sk-container-id-4 div.sk-toggleable {\n",
       "  /* Default theme specific background. It is overwritten whether we have a\n",
       "  specific estimator or a Pipeline/ColumnTransformer */\n",
       "  background-color: var(--sklearn-color-background);\n",
       "}\n",
       "\n",
       "/* Toggleable label */\n",
       "#sk-container-id-4 label.sk-toggleable__label {\n",
       "  cursor: pointer;\n",
       "  display: block;\n",
       "  width: 100%;\n",
       "  margin-bottom: 0;\n",
       "  padding: 0.5em;\n",
       "  box-sizing: border-box;\n",
       "  text-align: center;\n",
       "}\n",
       "\n",
       "#sk-container-id-4 label.sk-toggleable__label-arrow:before {\n",
       "  /* Arrow on the left of the label */\n",
       "  content: \"▸\";\n",
       "  float: left;\n",
       "  margin-right: 0.25em;\n",
       "  color: var(--sklearn-color-icon);\n",
       "}\n",
       "\n",
       "#sk-container-id-4 label.sk-toggleable__label-arrow:hover:before {\n",
       "  color: var(--sklearn-color-text);\n",
       "}\n",
       "\n",
       "/* Toggleable content - dropdown */\n",
       "\n",
       "#sk-container-id-4 div.sk-toggleable__content {\n",
       "  max-height: 0;\n",
       "  max-width: 0;\n",
       "  overflow: hidden;\n",
       "  text-align: left;\n",
       "  /* unfitted */\n",
       "  background-color: var(--sklearn-color-unfitted-level-0);\n",
       "}\n",
       "\n",
       "#sk-container-id-4 div.sk-toggleable__content.fitted {\n",
       "  /* fitted */\n",
       "  background-color: var(--sklearn-color-fitted-level-0);\n",
       "}\n",
       "\n",
       "#sk-container-id-4 div.sk-toggleable__content pre {\n",
       "  margin: 0.2em;\n",
       "  border-radius: 0.25em;\n",
       "  color: var(--sklearn-color-text);\n",
       "  /* unfitted */\n",
       "  background-color: var(--sklearn-color-unfitted-level-0);\n",
       "}\n",
       "\n",
       "#sk-container-id-4 div.sk-toggleable__content.fitted pre {\n",
       "  /* unfitted */\n",
       "  background-color: var(--sklearn-color-fitted-level-0);\n",
       "}\n",
       "\n",
       "#sk-container-id-4 input.sk-toggleable__control:checked~div.sk-toggleable__content {\n",
       "  /* Expand drop-down */\n",
       "  max-height: 200px;\n",
       "  max-width: 100%;\n",
       "  overflow: auto;\n",
       "}\n",
       "\n",
       "#sk-container-id-4 input.sk-toggleable__control:checked~label.sk-toggleable__label-arrow:before {\n",
       "  content: \"▾\";\n",
       "}\n",
       "\n",
       "/* Pipeline/ColumnTransformer-specific style */\n",
       "\n",
       "#sk-container-id-4 div.sk-label input.sk-toggleable__control:checked~label.sk-toggleable__label {\n",
       "  color: var(--sklearn-color-text);\n",
       "  background-color: var(--sklearn-color-unfitted-level-2);\n",
       "}\n",
       "\n",
       "#sk-container-id-4 div.sk-label.fitted input.sk-toggleable__control:checked~label.sk-toggleable__label {\n",
       "  background-color: var(--sklearn-color-fitted-level-2);\n",
       "}\n",
       "\n",
       "/* Estimator-specific style */\n",
       "\n",
       "/* Colorize estimator box */\n",
       "#sk-container-id-4 div.sk-estimator input.sk-toggleable__control:checked~label.sk-toggleable__label {\n",
       "  /* unfitted */\n",
       "  background-color: var(--sklearn-color-unfitted-level-2);\n",
       "}\n",
       "\n",
       "#sk-container-id-4 div.sk-estimator.fitted input.sk-toggleable__control:checked~label.sk-toggleable__label {\n",
       "  /* fitted */\n",
       "  background-color: var(--sklearn-color-fitted-level-2);\n",
       "}\n",
       "\n",
       "#sk-container-id-4 div.sk-label label.sk-toggleable__label,\n",
       "#sk-container-id-4 div.sk-label label {\n",
       "  /* The background is the default theme color */\n",
       "  color: var(--sklearn-color-text-on-default-background);\n",
       "}\n",
       "\n",
       "/* On hover, darken the color of the background */\n",
       "#sk-container-id-4 div.sk-label:hover label.sk-toggleable__label {\n",
       "  color: var(--sklearn-color-text);\n",
       "  background-color: var(--sklearn-color-unfitted-level-2);\n",
       "}\n",
       "\n",
       "/* Label box, darken color on hover, fitted */\n",
       "#sk-container-id-4 div.sk-label.fitted:hover label.sk-toggleable__label.fitted {\n",
       "  color: var(--sklearn-color-text);\n",
       "  background-color: var(--sklearn-color-fitted-level-2);\n",
       "}\n",
       "\n",
       "/* Estimator label */\n",
       "\n",
       "#sk-container-id-4 div.sk-label label {\n",
       "  font-family: monospace;\n",
       "  font-weight: bold;\n",
       "  display: inline-block;\n",
       "  line-height: 1.2em;\n",
       "}\n",
       "\n",
       "#sk-container-id-4 div.sk-label-container {\n",
       "  text-align: center;\n",
       "}\n",
       "\n",
       "/* Estimator-specific */\n",
       "#sk-container-id-4 div.sk-estimator {\n",
       "  font-family: monospace;\n",
       "  border: 1px dotted var(--sklearn-color-border-box);\n",
       "  border-radius: 0.25em;\n",
       "  box-sizing: border-box;\n",
       "  margin-bottom: 0.5em;\n",
       "  /* unfitted */\n",
       "  background-color: var(--sklearn-color-unfitted-level-0);\n",
       "}\n",
       "\n",
       "#sk-container-id-4 div.sk-estimator.fitted {\n",
       "  /* fitted */\n",
       "  background-color: var(--sklearn-color-fitted-level-0);\n",
       "}\n",
       "\n",
       "/* on hover */\n",
       "#sk-container-id-4 div.sk-estimator:hover {\n",
       "  /* unfitted */\n",
       "  background-color: var(--sklearn-color-unfitted-level-2);\n",
       "}\n",
       "\n",
       "#sk-container-id-4 div.sk-estimator.fitted:hover {\n",
       "  /* fitted */\n",
       "  background-color: var(--sklearn-color-fitted-level-2);\n",
       "}\n",
       "\n",
       "/* Specification for estimator info (e.g. \"i\" and \"?\") */\n",
       "\n",
       "/* Common style for \"i\" and \"?\" */\n",
       "\n",
       ".sk-estimator-doc-link,\n",
       "a:link.sk-estimator-doc-link,\n",
       "a:visited.sk-estimator-doc-link {\n",
       "  float: right;\n",
       "  font-size: smaller;\n",
       "  line-height: 1em;\n",
       "  font-family: monospace;\n",
       "  background-color: var(--sklearn-color-background);\n",
       "  border-radius: 1em;\n",
       "  height: 1em;\n",
       "  width: 1em;\n",
       "  text-decoration: none !important;\n",
       "  margin-left: 1ex;\n",
       "  /* unfitted */\n",
       "  border: var(--sklearn-color-unfitted-level-1) 1pt solid;\n",
       "  color: var(--sklearn-color-unfitted-level-1);\n",
       "}\n",
       "\n",
       ".sk-estimator-doc-link.fitted,\n",
       "a:link.sk-estimator-doc-link.fitted,\n",
       "a:visited.sk-estimator-doc-link.fitted {\n",
       "  /* fitted */\n",
       "  border: var(--sklearn-color-fitted-level-1) 1pt solid;\n",
       "  color: var(--sklearn-color-fitted-level-1);\n",
       "}\n",
       "\n",
       "/* On hover */\n",
       "div.sk-estimator:hover .sk-estimator-doc-link:hover,\n",
       ".sk-estimator-doc-link:hover,\n",
       "div.sk-label-container:hover .sk-estimator-doc-link:hover,\n",
       ".sk-estimator-doc-link:hover {\n",
       "  /* unfitted */\n",
       "  background-color: var(--sklearn-color-unfitted-level-3);\n",
       "  color: var(--sklearn-color-background);\n",
       "  text-decoration: none;\n",
       "}\n",
       "\n",
       "div.sk-estimator.fitted:hover .sk-estimator-doc-link.fitted:hover,\n",
       ".sk-estimator-doc-link.fitted:hover,\n",
       "div.sk-label-container:hover .sk-estimator-doc-link.fitted:hover,\n",
       ".sk-estimator-doc-link.fitted:hover {\n",
       "  /* fitted */\n",
       "  background-color: var(--sklearn-color-fitted-level-3);\n",
       "  color: var(--sklearn-color-background);\n",
       "  text-decoration: none;\n",
       "}\n",
       "\n",
       "/* Span, style for the box shown on hovering the info icon */\n",
       ".sk-estimator-doc-link span {\n",
       "  display: none;\n",
       "  z-index: 9999;\n",
       "  position: relative;\n",
       "  font-weight: normal;\n",
       "  right: .2ex;\n",
       "  padding: .5ex;\n",
       "  margin: .5ex;\n",
       "  width: min-content;\n",
       "  min-width: 20ex;\n",
       "  max-width: 50ex;\n",
       "  color: var(--sklearn-color-text);\n",
       "  box-shadow: 2pt 2pt 4pt #999;\n",
       "  /* unfitted */\n",
       "  background: var(--sklearn-color-unfitted-level-0);\n",
       "  border: .5pt solid var(--sklearn-color-unfitted-level-3);\n",
       "}\n",
       "\n",
       ".sk-estimator-doc-link.fitted span {\n",
       "  /* fitted */\n",
       "  background: var(--sklearn-color-fitted-level-0);\n",
       "  border: var(--sklearn-color-fitted-level-3);\n",
       "}\n",
       "\n",
       ".sk-estimator-doc-link:hover span {\n",
       "  display: block;\n",
       "}\n",
       "\n",
       "/* \"?\"-specific style due to the `<a>` HTML tag */\n",
       "\n",
       "#sk-container-id-4 a.estimator_doc_link {\n",
       "  float: right;\n",
       "  font-size: 1rem;\n",
       "  line-height: 1em;\n",
       "  font-family: monospace;\n",
       "  background-color: var(--sklearn-color-background);\n",
       "  border-radius: 1rem;\n",
       "  height: 1rem;\n",
       "  width: 1rem;\n",
       "  text-decoration: none;\n",
       "  /* unfitted */\n",
       "  color: var(--sklearn-color-unfitted-level-1);\n",
       "  border: var(--sklearn-color-unfitted-level-1) 1pt solid;\n",
       "}\n",
       "\n",
       "#sk-container-id-4 a.estimator_doc_link.fitted {\n",
       "  /* fitted */\n",
       "  border: var(--sklearn-color-fitted-level-1) 1pt solid;\n",
       "  color: var(--sklearn-color-fitted-level-1);\n",
       "}\n",
       "\n",
       "/* On hover */\n",
       "#sk-container-id-4 a.estimator_doc_link:hover {\n",
       "  /* unfitted */\n",
       "  background-color: var(--sklearn-color-unfitted-level-3);\n",
       "  color: var(--sklearn-color-background);\n",
       "  text-decoration: none;\n",
       "}\n",
       "\n",
       "#sk-container-id-4 a.estimator_doc_link.fitted:hover {\n",
       "  /* fitted */\n",
       "  background-color: var(--sklearn-color-fitted-level-3);\n",
       "}\n",
       "</style><div id=\"sk-container-id-4\" class=\"sk-top-container\"><div class=\"sk-text-repr-fallback\"><pre>LogisticRegression()</pre><b>In a Jupyter environment, please rerun this cell to show the HTML representation or trust the notebook. <br />On GitHub, the HTML representation is unable to render, please try loading this page with nbviewer.org.</b></div><div class=\"sk-container\" hidden><div class=\"sk-item\"><div class=\"sk-estimator fitted sk-toggleable\"><input class=\"sk-toggleable__control sk-hidden--visually\" id=\"sk-estimator-id-4\" type=\"checkbox\" checked><label for=\"sk-estimator-id-4\" class=\"sk-toggleable__label fitted sk-toggleable__label-arrow fitted\">&nbsp;&nbsp;LogisticRegression<a class=\"sk-estimator-doc-link fitted\" rel=\"noreferrer\" target=\"_blank\" href=\"https://scikit-learn.org/1.5/modules/generated/sklearn.linear_model.LogisticRegression.html\">?<span>Documentation for LogisticRegression</span></a><span class=\"sk-estimator-doc-link fitted\">i<span>Fitted</span></span></label><div class=\"sk-toggleable__content fitted\"><pre>LogisticRegression()</pre></div> </div></div></div></div>"
      ],
      "text/plain": [
       "LogisticRegression()"
      ]
     },
     "execution_count": 153,
     "metadata": {},
     "output_type": "execute_result"
    }
   ],
   "source": [
    "# Initialize and train the model\n",
    "model = LogisticRegression()\n",
    "model.fit(X_train_sc, y_train)"
   ]
  },
  {
   "cell_type": "markdown",
   "id": "84729aab-d52d-4f75-954a-8df3a4e05cbe",
   "metadata": {},
   "source": [
    "# Predict the Test set result"
   ]
  },
  {
   "cell_type": "code",
   "execution_count": 156,
   "id": "e860249a-5380-475d-b52b-353ad5cba8fb",
   "metadata": {},
   "outputs": [
    {
     "data": {
      "text/plain": [
       "array([0, 1, 0, 1, 0, 0, 1, 0, 0, 0, 0, 1, 0, 0, 0, 0, 1, 1, 0, 1, 0, 0,\n",
       "       0, 1, 0, 0, 1, 0, 1, 0, 0, 0, 1, 0, 1, 0, 0, 0, 0, 0, 0, 0, 0, 0,\n",
       "       0, 1, 0, 0, 0, 0, 0, 1, 0, 0, 0, 0, 1, 0, 0, 0, 0, 0, 1, 0, 0, 0,\n",
       "       1, 1, 0, 0, 1, 0, 0, 0, 0, 0, 1, 1, 0, 0], dtype=int64)"
      ]
     },
     "execution_count": 156,
     "metadata": {},
     "output_type": "execute_result"
    }
   ],
   "source": [
    "y_pred = model.predict(X_test_sc)\n",
    "y_pred"
   ]
  },
  {
   "cell_type": "code",
   "execution_count": 158,
   "id": "27fb19ef-2647-464f-8adb-59c94716348f",
   "metadata": {},
   "outputs": [
    {
     "data": {
      "text/plain": [
       "array([0, 0, 1, 0, 1, 0, 0, 1, 0, 0, 1, 0, 0, 0, 0, 0, 1, 0, 1, 0, 1, 0,\n",
       "       0, 0, 0, 1, 0, 0, 1, 0, 0, 0, 1, 1, 1, 0, 0, 0, 0, 0, 0, 0, 0, 1,\n",
       "       0, 0, 0, 0, 0, 1, 1, 0, 1, 0, 0, 0, 1, 1, 1, 1, 0, 0, 1, 0, 0, 1,\n",
       "       0, 0, 0, 1, 0, 0, 1, 0, 0, 0, 1, 0, 1, 0, 0, 1, 0, 0, 0, 0, 0, 0,\n",
       "       0, 0, 0, 0, 0, 0, 0, 0, 0, 1, 0, 0, 0, 0, 0, 0, 0, 0, 1, 1, 0, 0,\n",
       "       0, 0, 1, 0, 1, 1, 0, 0, 1, 1, 0, 0, 1, 1, 0, 0, 0, 0, 0, 0, 1, 0,\n",
       "       0, 0, 1, 0, 0, 1, 1, 1, 1, 0, 1, 0, 0, 0, 0, 0, 0, 1, 0, 1, 0, 0,\n",
       "       0, 0, 0, 1, 1, 1, 1, 0, 0, 0, 0, 0, 0, 0, 0, 0, 0, 0, 0, 1, 0, 1,\n",
       "       0, 0, 1, 0, 1, 0, 0, 0, 0, 0, 0, 1, 0, 0, 0, 1, 1, 0, 0, 0, 0, 1,\n",
       "       1, 1, 0, 0, 0, 0, 1, 0, 0, 0, 0, 1, 0, 0, 0, 0, 0, 1, 0, 0, 1, 0,\n",
       "       0, 0, 1, 0, 0, 0, 0, 0, 1, 1, 0, 1, 0, 1, 0, 1, 1, 1, 0, 1, 1, 0,\n",
       "       1, 0, 0, 1, 0, 0, 1, 0, 0, 0, 0, 0, 1, 0, 0, 0, 0, 0, 0, 0, 0, 0,\n",
       "       1, 0, 0, 1, 0, 0, 0, 0, 1, 0, 1, 1, 0, 1, 0, 0, 1, 0, 0, 0, 0, 0,\n",
       "       0, 0, 0, 0, 1, 1, 1, 1, 1, 0, 0, 0, 0, 1, 0, 1, 0, 0, 0, 0, 0, 0,\n",
       "       0, 0, 0, 0, 1, 0, 0, 0, 0, 1, 0, 0], dtype=int64)"
      ]
     },
     "execution_count": 158,
     "metadata": {},
     "output_type": "execute_result"
    }
   ],
   "source": [
    "y_pred_train= model.predict(X_train_sc)\n",
    "y_pred_train"
   ]
  },
  {
   "cell_type": "markdown",
   "id": "5b8ae605-a0fd-4f9b-9af1-b5fb135ae74e",
   "metadata": {},
   "source": [
    "## Visualising the Training set results"
   ]
  },
  {
   "cell_type": "code",
   "execution_count": 188,
   "id": "90401321-6a06-49db-bd68-9f52e9aa4a00",
   "metadata": {},
   "outputs": [
    {
     "data": {
      "image/png": "[encoded data removed]",
      "text/plain": [
       "<Figure size 800x500 with 2 Axes>"
      ]
     },
     "metadata": {},
     "output_type": "display_data"
    }
   ],
   "source": [
    "plt.figure(figsize=(8, 5))\n",
    "\n",
    "# Scatter plot for training set\n",
    "plt.scatter(X_train.iloc[:, 0], X_train.iloc[:, 1], c=y_train, cmap='coolwarm', marker='o', edgecolors='black')\n",
    "\n",
    "\n",
    "plt.xlabel('Age')\n",
    "plt.ylabel('Estimated Salary')\n",
    "plt.title('Training Set Visualization')\n",
    "plt.grid(True)\n",
    "plt.colorbar(label=\"Purchased\")  # Adds a legend for classification\n",
    "plt.show()"
   ]
  },
  {
   "cell_type": "markdown",
   "id": "9deee12f-7c38-453f-9964-2108072112ad",
   "metadata": {},
   "source": [
    "## Visualising the Test set results"
   ]
  },
  {
   "cell_type": "code",
   "execution_count": 190,
   "id": "72c44ba6-a0b9-4a52-a894-2ff82b5674bd",
   "metadata": {},
   "outputs": [
    {
     "data": {
      "image/png": "[encoded data removed]",
      "text/plain": [
       "<Figure size 800x500 with 2 Axes>"
      ]
     },
     "metadata": {},
     "output_type": "display_data"
    }
   ],
   "source": [
    "# Plot test data\n",
    "plt.figure(figsize=(8, 5))\n",
    "\n",
    "# Scatter plot for test set\n",
    "plt.scatter(X_test.iloc[:, 0], X_test.iloc[:, 1], c=y_test, cmap='coolwarm', marker='o', edgecolors='black')\n",
    "\n",
    "plt.xlabel('Age')\n",
    "plt.ylabel('Estimated Salary')\n",
    "plt.title('Test Set Visualization')\n",
    "plt.grid(True)\n",
    "plt.colorbar(label=\"Purchased\")  # Adds a legend for classification\n",
    "plt.show()\n"
   ]
  },
  {
   "cell_type": "markdown",
   "id": "700d807c-ebf3-45c4-a0d7-64bbd440d98d",
   "metadata": {},
   "source": [
    "## Model Evaluation"
   ]
  },
  {
   "cell_type": "code",
   "execution_count": 192,
   "id": "72d04889-5feb-4c20-bff7-f1e749cdc13d",
   "metadata": {},
   "outputs": [
    {
     "name": "stdout",
     "output_type": "stream",
     "text": [
      "Model Accuracy: 0.86\n",
      "\n",
      "Classification Report:\n",
      "               precision    recall  f1-score   support\n",
      "\n",
      "           0       0.85      0.96      0.90        52\n",
      "           1       0.90      0.68      0.78        28\n",
      "\n",
      "    accuracy                           0.86        80\n",
      "   macro avg       0.88      0.82      0.84        80\n",
      "weighted avg       0.87      0.86      0.86        80\n",
      "\n"
     ]
    }
   ],
   "source": [
    "# Evaluate the model\n",
    "accuracy = accuracy_score(y_test, y_pred)\n",
    "print(f'Model Accuracy: {accuracy:.2f}')\n",
    "print(\"\\nClassification Report:\\n\", classification_report(y_test, y_pred))\n"
   ]
  },
  {
   "cell_type": "markdown",
   "id": "370268f5-984d-4a22-956d-0baf86cc51c7",
   "metadata": {},
   "source": [
    "## Graphical Analysis and Predictions"
   ]
  },
  {
   "cell_type": "code",
   "execution_count": 170,
   "id": "af3dc76a-1032-400f-b5f2-47044dc5e5c5",
   "metadata": {},
   "outputs": [
    {
     "name": "stdout",
     "output_type": "stream",
     "text": [
      "Input: Age = 30, EstimatedSalary = 87000\n",
      "Prediction (1 = Purchased, 0 = Not Purchased): 0\n"
     ]
    }
   ],
   "source": [
    "custom_input = pd.DataFrame({'Age': [30], 'EstimatedSalary': [87000]})\n",
    "\n",
    "# Scale the input using the same scaler\n",
    "custom_input_scaled = scaler.transform(custom_input)\n",
    "\n",
    "# Predict\n",
    "prediction = model.predict(custom_input_scaled)[0]\n",
    "\n",
    "# Output result\n",
    "print(\"Input: Age = 30, EstimatedSalary = 87000\")\n",
    "print(\"Prediction (1 = Purchased, 0 = Not Purchased):\", prediction)"
   ]
  },
  {
   "cell_type": "code",
   "execution_count": 172,
   "id": "a8df4867-a5d4-4350-967f-098f7de47364",
   "metadata": {},
   "outputs": [
    {
     "name": "stdout",
     "output_type": "stream",
     "text": [
      "Input: Age = 40, EstimatedSalary = 0\n",
      "Prediction (1 = Purchased, 0 = Not Purchased): 0\n"
     ]
    }
   ],
   "source": [
    "custom_input = pd.DataFrame({'Age': [40], 'EstimatedSalary': [0]})\n",
    "\n",
    "# Scale the input using the same scaler\n",
    "custom_input_scaled = scaler.transform(custom_input)\n",
    "\n",
    "# Predict\n",
    "prediction = model.predict(custom_input_scaled)[0]\n",
    "\n",
    "# Output result\n",
    "print(\"Input: Age = 40, EstimatedSalary = 0\")\n",
    "print(\"Prediction (1 = Purchased, 0 = Not Purchased):\", prediction)"
   ]
  },
  {
   "cell_type": "code",
   "execution_count": 174,
   "id": "e94b260b-e064-48bc-a168-e1817ec46a9e",
   "metadata": {},
   "outputs": [
    {
     "name": "stdout",
     "output_type": "stream",
     "text": [
      "Input: Age = 40, EstimatedSalary = 100000\n",
      "Prediction (1 = Purchased, 0 = Not Purchased): 1\n"
     ]
    }
   ],
   "source": [
    "custom_input = pd.DataFrame({'Age': [40], 'EstimatedSalary': [100000]})\n",
    "\n",
    "# Scale the input using the same scaler\n",
    "custom_input_scaled = scaler.transform(custom_input)\n",
    "\n",
    "# Predict\n",
    "prediction = model.predict(custom_input_scaled)[0]\n",
    "\n",
    "# Output result\n",
    "print(\"Input: Age = 40, EstimatedSalary = 100000\")\n",
    "print(\"Prediction (1 = Purchased, 0 = Not Purchased):\", prediction)"
   ]
  },
  {
   "cell_type": "code",
   "execution_count": 176,
   "id": "eaadf7e1-22b8-4c64-b205-c239099b598c",
   "metadata": {},
   "outputs": [
    {
     "name": "stdout",
     "output_type": "stream",
     "text": [
      "Input: Age = 50, EstimatedSalary = 0\n",
      "Prediction (1 = Purchased, 0 = Not Purchased): 0\n"
     ]
    }
   ],
   "source": [
    "custom_input = pd.DataFrame({'Age': [50], 'EstimatedSalary': [0]})\n",
    "\n",
    "# Scale the input using the same scaler\n",
    "custom_input_scaled = scaler.transform(custom_input)\n",
    "\n",
    "# Predict\n",
    "prediction = model.predict(custom_input_scaled)[0]\n",
    "\n",
    "# Output result\n",
    "print(\"Input: Age = 50, EstimatedSalary = 0\")\n",
    "print(\"Prediction (1 = Purchased, 0 = Not Purchased):\", prediction)"
   ]
  },
  {
   "cell_type": "code",
   "execution_count": 178,
   "id": "6d3f159c-241f-4953-9173-8bc99ab3f803",
   "metadata": {},
   "outputs": [
    {
     "name": "stdout",
     "output_type": "stream",
     "text": [
      "Input: Age = 18, EstimatedSalary = 0\n",
      "Prediction (1 = Purchased, 0 = Not Purchased): 0\n"
     ]
    }
   ],
   "source": [
    "custom_input = pd.DataFrame({'Age': [18], 'EstimatedSalary': [0]})\n",
    "\n",
    "# Scale the input using the same scaler\n",
    "custom_input_scaled = scaler.transform(custom_input)\n",
    "\n",
    "# Predict\n",
    "prediction = model.predict(custom_input_scaled)[0]\n",
    "\n",
    "# Output result\n",
    "print(\"Input: Age = 18, EstimatedSalary = 0\")\n",
    "print(\"Prediction (1 = Purchased, 0 = Not Purchased):\", prediction)"
   ]
  },
  {
   "cell_type": "code",
   "execution_count": 180,
   "id": "fed62880-8cf7-4730-9638-be9708b93d58",
   "metadata": {},
   "outputs": [
    {
     "name": "stdout",
     "output_type": "stream",
     "text": [
      "Input: Age = 22, EstimatedSalary = 600000\n",
      "Prediction (1 = Purchased, 0 = Not Purchased): 1\n"
     ]
    }
   ],
   "source": [
    "custom_input = pd.DataFrame({'Age': [22], 'EstimatedSalary': [600000]})\n",
    "\n",
    "# Scale the input using the same scaler\n",
    "custom_input_scaled = scaler.transform(custom_input)\n",
    "\n",
    "# Predict\n",
    "prediction = model.predict(custom_input_scaled)[0]\n",
    "\n",
    "# Output result\n",
    "print(\"Input: Age = 22, EstimatedSalary = 600000\")\n",
    "print(\"Prediction (1 = Purchased, 0 = Not Purchased):\", prediction)"
   ]
  },
  {
   "cell_type": "code",
   "execution_count": 182,
   "id": "03665565-63f7-441e-bd25-90d397d23672",
   "metadata": {},
   "outputs": [
    {
     "name": "stdout",
     "output_type": "stream",
     "text": [
      "Input: Age = 35, EstimatedSalary = 2500000\n",
      "Prediction (1 = Purchased, 0 = Not Purchased): 1\n"
     ]
    }
   ],
   "source": [
    "custom_input = pd.DataFrame({'Age': [35], 'EstimatedSalary': [2500000]})\n",
    "\n",
    "# Scale the input using the same scaler\n",
    "custom_input_scaled = scaler.transform(custom_input)\n",
    "\n",
    "# Predict\n",
    "prediction = model.predict(custom_input_scaled)[0]\n",
    "\n",
    "# Output result\n",
    "print(\"Input: Age = 35, EstimatedSalary = 2500000\")\n",
    "print(\"Prediction (1 = Purchased, 0 = Not Purchased):\", prediction)"
   ]
  },
  {
   "cell_type": "code",
   "execution_count": 184,
   "id": "276bb859-c89b-4c0c-8d8c-dbf246d7a8fb",
   "metadata": {},
   "outputs": [
    {
     "name": "stdout",
     "output_type": "stream",
     "text": [
      "Input: Age = 60, EstimatedSalary = 100000000\n",
      "Prediction (1 = Purchased, 0 = Not Purchased): 1\n"
     ]
    }
   ],
   "source": [
    "custom_input = pd.DataFrame({'Age': [60], 'EstimatedSalary': [100000000]})\n",
    "\n",
    "# Scale the input using the same scaler\n",
    "custom_input_scaled = scaler.transform(custom_input)\n",
    "\n",
    "# Predict\n",
    "prediction = model.predict(custom_input_scaled)[0]\n",
    "\n",
    "# Output result\n",
    "print(\"Input: Age = 60, EstimatedSalary = 100000000\")\n",
    "print(\"Prediction (1 = Purchased, 0 = Not Purchased):\", prediction)"
   ]
  },
  {
   "cell_type": "markdown",
   "id": "271d4ad2-39ef-449b-85c9-f5273af6348a",
   "metadata": {},
   "source": [
    "## Hypotheses and Assumptions"
   ]
  },
  {
   "cell_type": "markdown",
   "id": "598650f7-12f7-4af6-b75d-4766b3d05dde",
   "metadata": {},
   "source": [
    "**After training this model, I had drawn some inferences that are-**\n",
    "1. Higher-salaried individuals tend to make more purchases, particularly as age increases.\n",
    "2. Marketing efforts might be more effective when targeted at older individuals with higher salaries.\n",
    "3. Young customers, who are financially capable, may view insurance as a proactive measure for future security.\n",
    "4. It is further assumed that salary has a stronger impact on insurance purchasing behavior than age."
   ]
  },
  {
   "cell_type": "markdown",
   "id": "e301d6b5-4a07-4f25-bd45-3f434cc0f13f",
   "metadata": {},
   "source": [
    "## Lessons Learned and Real-Life Application"
   ]
  },
  {
   "cell_type": "markdown",
   "id": "4542f25c-a6eb-4331-a9d1-26eee93ab833",
   "metadata": {},
   "source": [
    "**Moral behind the Case Study:**\n",
    "\n",
    "1. **Importance of Feature Selection:**  \n",
    "   The case study highlights how key factors such as age and salary significantly influence insurance purchasing behavior. Proper selection and analysis of these variables enhance model accuracy and provide actionable insights.\n",
    "\n",
    "2. **Model Effectiveness:**  \n",
    "   Logistic regression proved to be an effective tool for binary classification tasks like predicting insurance purchases. The study reinforced the need for thorough model evaluation using metrics like accuracy and classification reports.\n",
    "\n",
    "3. **Data Preprocessing is Crucial:**  \n",
    "   Standardizing data and handling class imbalances are critical steps in building a reliable model. This ensures that the model isn't biased toward certain groups and generalizes well to new data.\n",
    "\n",
    "4. **Interpretation of Results:**  \n",
    "   Beyond accuracy, understanding *why* certain groups are more likely to purchase insurance (e.g., younger, high-income individuals) is essential for deriving meaningful business strategies.\n",
    "\n",
    "---\n",
    "\n",
    "**Real-Life Application:**\n",
    "\n",
    "1. **Targeted Marketing Campaigns:**  \n",
    "   Insurance companies can use the insights to design personalized marketing strategies, focusing on younger high-income segments who are more likely to purchase.\n",
    "\n",
    "2. **Product Development:**  \n",
    "   Companies might tailor products or premium packages to appeal to different age and salary groups, ensuring broader market coverage and improved customer satisfaction.\n",
    "\n",
    "3. **Resource Allocation:**  \n",
    "   By predicting which customers are less likely to buy, firms can optimize resource allocation, focusing sales efforts where the likelihood of conversion is higher.\n",
    "\n",
    "4. **Policy Customization:**  \n",
    "   The findings can aid in customizing insurance policies to fit the risk profiles and financial capacities of different customer segments, making offerings more competitive.\n",
    "\n",
    "---"
   ]
  },
  {
   "cell_type": "markdown",
   "id": "033dddbb-9676-4575-8da0-0b225be0fec9",
   "metadata": {},
   "source": [
    "## Strength and Weakness of Logistic Regression"
   ]
  },
  {
   "cell_type": "markdown",
   "id": "d6b35d78-bbda-4a6a-a8fa-d5c1ebd52e9f",
   "metadata": {},
   "source": [
    "**Strengths of Logistic Regression:**\n",
    "\n",
    "1. **Simplicity and Interpretability:**  \n",
    "   Logistic regression is straightforward to implement and provides easily interpretable results, especially regarding how each feature impacts the probability of an outcome.\n",
    "\n",
    "2. **Efficiency:**  \n",
    "   It is computationally efficient and performs well with small to medium-sized datasets.\n",
    "\n",
    "3. **Probabilistic Output:**  \n",
    "   Unlike some other models, logistic regression provides probability estimates, which are useful for risk assessment and decision-making.\n",
    "\n",
    "4. **Works Well with Linearly Separable Data:**  \n",
    "   It performs well when the relationship between features and the target variable is approximately linear.\n",
    "\n",
    "5. **Baseline Model:**  \n",
    "   Often used as a strong baseline before trying more complex models.\n",
    "\n",
    "---\n",
    "\n",
    "**Weaknesses of Logistic Regression:**\n",
    "\n",
    "1. **Assumption of Linearity:**  \n",
    "   Logistic regression assumes a linear relationship between independent variables and the log-odds of the dependent variable, which may not hold true in all cases.\n",
    "\n",
    "2. **Not Suitable for Complex Relationships:**  \n",
    "   It struggles with non-linear patterns unless combined with feature engineering or transformed variables.\n",
    "\n",
    "3. **Sensitive to Outliers:**  \n",
    "   Outliers can distort the model's predictions and reduce its effectiveness.\n",
    "\n",
    "4. **Requires Meaningful Input Features:**  \n",
    "   Performance heavily depends on the quality and relevance of the input features; irrelevant or highly correlated variables can reduce model accuracy.\n",
    "\n",
    "5. **Limited to Binary and Multinomial Outputs:**  \n",
    "   Standard logistic regression is limited to binary or multinomial classification tasks and isn’t directly applicable to regression or multi-label problems.\n",
    "\n",
    "---"
   ]
  },
  {
   "cell_type": "markdown",
   "id": "3af9c1ab-96b2-4d92-9676-a4459e7735a5",
   "metadata": {},
   "source": [
    "## Conclusion"
   ]
  },
  {
   "cell_type": "markdown",
   "id": "30a617d2-949a-4bf0-aab8-5c89b22d0c9d",
   "metadata": {},
   "source": [
    "By conducting a thorough compare and contrast study on various classification algorithms, this project aims to identify the optimal model for predicting customer insurance purchases accurately. The final choice of algorithm should provide a balance between accuracy and generalization, ensuring it is well-suited for the provided dataset. This approach aligns with the business goal of enhancing the company's ability to predict customer behavior and make informed decisions in the insurance domain."
   ]
  },
  {
   "cell_type": "code",
   "execution_count": null,
   "id": "1d5cff5a-fb8c-4fbd-b70a-97bd4341b69b",
   "metadata": {},
   "outputs": [],
   "source": []
  }
 ],
 "metadata": {
  "kernelspec": {
   "display_name": "Python [conda env:base] *",
   "language": "python",
   "name": "conda-base-py"
  },
  "language_info": {
   "codemirror_mode": {
    "name": "ipython",
    "version": 3
   },
   "file_extension": ".py",
   "mimetype": "text/x-python",
   "name": "python",
   "nbconvert_exporter": "python",
   "pygments_lexer": "ipython3",
   "version": "3.12.7"
  }
 },
 "nbformat": 4,
 "nbformat_minor": 5
}
